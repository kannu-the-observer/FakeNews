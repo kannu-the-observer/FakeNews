{
 "cells": [
  {
   "cell_type": "code",
   "execution_count": 2,
   "metadata": {},
   "outputs": [],
   "source": [
    "import json\n",
    "import pandas as pd\n",
    "import re\n",
    "import string\n",
    "from sklearn.model_selection import train_test_split\n",
    "from sklearn.pipeline import Pipeline\n",
    "from sklearn.feature_extraction.text import CountVectorizer\n",
    "from sklearn.feature_extraction.text import TfidfTransformer\n",
    "from sklearn.metrics import accuracy_score, confusion_matrix,classification_report\n",
    "from sklearn.linear_model import LogisticRegression\n",
    "from sklearn.svm import LinearSVC\n",
    "from sklearn.naive_bayes import MultinomialNB\n",
    "from sklearn.linear_model import SGDClassifier\n",
    "from sklearn.ensemble import RandomForestClassifier"
   ]
  },
  {
   "cell_type": "code",
   "execution_count": 3,
   "metadata": {},
   "outputs": [],
   "source": [
    "def train_model(x_train, x_test, y_train, y_test, model):\n",
    "    pipe1 = Pipeline([('vect', CountVectorizer()), ('tfidf', TfidfTransformer()), ('model', model)])\n",
    "\n",
    "    trained_model = pipe1.fit(x_train, y_train)\n",
    "    prediction = trained_model.predict(x_test)\n",
    "    \n",
    "    accuracy = round(accuracy_score(y_test, prediction)*100, 2)\n",
    "    results[f\"{model.__class__.__name__}-same_set\"].append(trained_model)\n",
    "    results[f\"{model.__class__.__name__}-same_set\"].append(accuracy)\n",
    "    print(f\"Accuracy of {model.__class__.__name__} Classifier: {accuracy}%\")\n",
    "    print(f\"Confusion Matrix of {model.__class__.__name__} Classifier:\")\n",
    "    print(confusion_matrix(y_test, prediction))\n",
    "    print(f\"CLassification Report of {model.__class__.__name__} Classifier:\")\n",
    "    print(classification_report(y_test, prediction))\n",
    "    return trained_model\n",
    "\n",
    "def test_model(article_bodies, article_labels, model, dataset_no, model_name):\n",
    "    prediction = model.predict(article_bodies)\n",
    "    \n",
    "    accuracy = round(accuracy_score(article_labels, prediction)*100, 2)\n",
    "    if f\"{model_name.__class__.__name__}-data_set{dataset_no}\" not in results:\n",
    "        results[f\"{model_name.__class__.__name__}-data_set{dataset_no}\"] = [accuracy]\n",
    "    else:\n",
    "        results[f\"{model_name.__class__.__name__}-data_set{dataset_no}\"].append(accuracy)\n",
    "    print(f\"Accuracy of {model_name.__class__.__name__} Classifier: {accuracy}%\")\n",
    "    print(f\"Confusion Matrix of {model_name.__class__.__name__} Classifier:\")\n",
    "    print(confusion_matrix(article_labels, prediction))\n",
    "    print(f\"CLassification Report of {model_name.__class__.__name__} Classifier:\")\n",
    "    print(classification_report(article_labels, prediction))\n",
    "    \n",
    "def wordopt(text):\n",
    "    text = text.lower()\n",
    "    text = re.sub('\\[.*?\\]', '', text)\n",
    "    text = re.sub(\"\\\\W\",\" \",text) \n",
    "    text = re.sub('https?://\\S+|www\\.\\S+', '', text)\n",
    "    text = re.sub('<.*?>+', '', text)\n",
    "    text = re.sub('[%s]' % re.escape(string.punctuation), '', text)\n",
    "    text = re.sub('\\n', '', text)\n",
    "    text = re.sub('\\w*\\d\\w*', '', text)    \n",
    "    return text"
   ]
  },
  {
   "cell_type": "code",
   "execution_count": 4,
   "metadata": {},
   "outputs": [],
   "source": [
    "models = [LogisticRegression(), LinearSVC(), MultinomialNB(), SGDClassifier(), RandomForestClassifier()]"
   ]
  },
  {
   "cell_type": "code",
   "execution_count": 5,
   "metadata": {},
   "outputs": [],
   "source": [
    "datasets = []\n",
    "for i in range(5):\n",
    "    data = pd.read_csv(f\"datasets/dataset{i}.csv\")\n",
    "    datasets.append(data)"
   ]
  },
  {
   "cell_type": "code",
   "execution_count": 6,
   "metadata": {},
   "outputs": [],
   "source": [
    "for i in range(len(datasets)):\n",
    "    datasets[i] = datasets[i].sample(frac = 1)\n",
    "    datasets[i].reset_index(inplace = True)\n",
    "    datasets[i].drop([\"index\"], axis = 1, inplace = True)\n",
    "    datasets[i][\"text\"] = datasets[i][\"text\"].apply(wordopt)"
   ]
  },
  {
   "cell_type": "code",
   "execution_count": 29,
   "metadata": {},
   "outputs": [
    {
     "name": "stdout",
     "output_type": "stream",
     "text": [
      "{'LogisticRegression-same_set': [], 'LinearSVC-same_set': [], 'MultinomialNB-same_set': [], 'SGDClassifier-same_set': [], 'RandomForestClassifier-same_set': []}\n"
     ]
    }
   ],
   "source": [
    "results = {}\n",
    "for model in models:\n",
    "    results[f\"{model.__class__.__name__}-same_set\"] = []\n",
    "print(results)"
   ]
  },
  {
   "cell_type": "code",
   "execution_count": 1,
   "metadata": {},
   "outputs": [],
   "source": [
    "for i in range(len(datasets)):\n",
    "    x_train, x_test, y_train, y_test = train_test_split(datasets[i].text, datasets[i].label, test_size=0.2, random_state=1)\n",
    "    for model in models:\n",
    "        print(f\"For dataset {i}:\")\n",
    "        trained_model = train_model(x_train, x_test, y_train, y_test, model)\n",
    "        for j in range(len(datasets)):\n",
    "            if i==j:\n",
    "                  continue\n",
    "            print(f\"Testing on dataset {j}:\")\n",
    "            test_model(datasets[j].text, datasets[j].label, trained_model, i, model)"
   ]
  },
  {
   "cell_type": "code",
   "execution_count": 30,
   "metadata": {},
   "outputs": [
    {
     "name": "stdout",
     "output_type": "stream",
     "text": [
      "Accuracy of LogisticRegression Classifier: 96.68%\n",
      "Confusion Matrix of LogisticRegression Classifier:\n",
      "[[251  15]\n",
      " [  2 244]]\n",
      "CLassification Report of LogisticRegression Classifier:\n",
      "              precision    recall  f1-score   support\n",
      "\n",
      "           0       0.99      0.94      0.97       266\n",
      "           1       0.94      0.99      0.97       246\n",
      "\n",
      "    accuracy                           0.97       512\n",
      "   macro avg       0.97      0.97      0.97       512\n",
      "weighted avg       0.97      0.97      0.97       512\n",
      "\n",
      "Accuracy of LinearSVC Classifier: 99.22%\n",
      "Confusion Matrix of LinearSVC Classifier:\n",
      "[[263   3]\n",
      " [  1 245]]\n",
      "CLassification Report of LinearSVC Classifier:\n",
      "              precision    recall  f1-score   support\n",
      "\n",
      "           0       1.00      0.99      0.99       266\n",
      "           1       0.99      1.00      0.99       246\n",
      "\n",
      "    accuracy                           0.99       512\n",
      "   macro avg       0.99      0.99      0.99       512\n",
      "weighted avg       0.99      0.99      0.99       512\n",
      "\n",
      "Accuracy of MultinomialNB Classifier: 93.55%\n",
      "Confusion Matrix of MultinomialNB Classifier:\n",
      "[[234  32]\n",
      " [  1 245]]\n",
      "CLassification Report of MultinomialNB Classifier:\n",
      "              precision    recall  f1-score   support\n",
      "\n",
      "           0       1.00      0.88      0.93       266\n",
      "           1       0.88      1.00      0.94       246\n",
      "\n",
      "    accuracy                           0.94       512\n",
      "   macro avg       0.94      0.94      0.94       512\n",
      "weighted avg       0.94      0.94      0.94       512\n",
      "\n",
      "Accuracy of SGDClassifier Classifier: 99.22%\n",
      "Confusion Matrix of SGDClassifier Classifier:\n",
      "[[263   3]\n",
      " [  1 245]]\n",
      "CLassification Report of SGDClassifier Classifier:\n",
      "              precision    recall  f1-score   support\n",
      "\n",
      "           0       1.00      0.99      0.99       266\n",
      "           1       0.99      1.00      0.99       246\n",
      "\n",
      "    accuracy                           0.99       512\n",
      "   macro avg       0.99      0.99      0.99       512\n",
      "weighted avg       0.99      0.99      0.99       512\n",
      "\n",
      "Accuracy of RandomForestClassifier Classifier: 97.27%\n",
      "Confusion Matrix of RandomForestClassifier Classifier:\n",
      "[[258   8]\n",
      " [  6 240]]\n",
      "CLassification Report of RandomForestClassifier Classifier:\n",
      "              precision    recall  f1-score   support\n",
      "\n",
      "           0       0.98      0.97      0.97       266\n",
      "           1       0.97      0.98      0.97       246\n",
      "\n",
      "    accuracy                           0.97       512\n",
      "   macro avg       0.97      0.97      0.97       512\n",
      "weighted avg       0.97      0.97      0.97       512\n",
      "\n"
     ]
    }
   ],
   "source": [
    "dataset = pd.read_csv(\"datasets/dataset4.csv\")\n",
    "x_train, x_test, y_train, y_test = train_test_split(dataset.text, dataset.label, test_size=0.2, random_state=1)\n",
    "for model in models:\n",
    "    trained_model = train_model(x_train, x_test, y_train, y_test, model)"
   ]
  },
  {
   "cell_type": "code",
   "execution_count": 31,
   "metadata": {},
   "outputs": [],
   "source": [
    "model = results['LinearSVC-same_set'][0]\n",
    "model2 = results['SGDClassifier-same_set'][0]"
   ]
  },
  {
   "cell_type": "code",
   "execution_count": 11,
   "metadata": {},
   "outputs": [],
   "source": [
    "import newspaper\n",
    "fake = ['https://www.theonion.com/wealthy-teen-nearly-experiences-consequence-1819570166',\n",
    "       'https://www.theonion.com/why-cant-i-sell-any-of-these-fucking-bibles-1819583497',\n",
    "       'https://www.theonion.com/bush-our-long-national-nightmare-of-peace-and-prosperi-1819565882',\n",
    "       'https://www.theonion.com/fuck-everything-were-doing-five-blades-1819584036',\n",
    "       'https://www.theonion.com/evangelical-scientists-refute-gravity-with-new-intellig-1819567984',\n",
    "       'https://www.theonion.com/black-guy-asks-nation-for-change-1819569703',\n",
    "       'https://www.theonion.com/hijackers-surprised-to-find-selves-in-hell-1819566162',\n",
    "       'https://www.theonion.com/pope-francis-worried-about-job-security-after-butting-h-1819578788',\n",
    "       'https://www.theonion.com/fun-toy-banned-because-of-three-stupid-dead-kids-1819565691',\n",
    "       'https://www.theonion.com/area-man-passionate-defender-of-what-he-imagines-consti-1819571149']"
   ]
  },
  {
   "cell_type": "code",
   "execution_count": 12,
   "metadata": {},
   "outputs": [
    {
     "name": "stdout",
     "output_type": "stream",
     "text": [
      "25\n"
     ]
    }
   ],
   "source": [
    "true = ['https://www.hindustantimes.com/world-news/explosives-set-off-to-bring-down-rest-of-collapsed-condo-in-florida-101625456836623.html',\n",
    "       'https://www.hindustantimes.com/world-news/blast-at-thai-factory-shakes-bangkok-airport-area-evacuated-101625460300340.html',\n",
    "       'https://www.hindustantimes.com/cities/patna-news/2-more-areas-in-bihar-s-champaran-achieve-100-first-dose-vaccination-101625458808289.html',\n",
    "       'https://www.hindustantimes.com/india-news/govt-presents-draft-bill-to-check-human-trafficking-suggestions-invited-101625458954199.html',\n",
    "       'https://www.hindustantimes.com/india-news/cowin-to-go-global-today-50-countries-show-interest-101625457771714.html',\n",
    "       'https://www.thehindu.com/news/international/scale-details-of-massive-kaseya-ransomware-attack-emerge/article35141077.ece?homepage=true',\n",
    "       'https://www.thehindu.com/news/international/blast-at-thai-factory-shakes-bangkok-airport-area-evacuated/article35141393.ece?homepage=true',\n",
    "       'https://www.thehindu.com/news/international/taliban-captures-several-districts-in-afghanistan/article35134805.ece?homepage=true',\n",
    "       'https://www.ndtv.com/india-news/stan-swamy-84-year-old-tribal-rights-activist-arrested-under-anti-terrorism-law-last-year-dies-after-prolonged-illness-2479602?trendingnow',\n",
    "       'https://www.ndtv.com/india-news/pranab-mukherjees-son-abhijit-mukherjee-to-join-trinamool-congress-today-sources-2479627?trendingnow',\n",
    "       'https://www.ndtv.com/india-news/12-bjp-mlas-in-maharashtra-disqualified-for-abusing-speaker-devendra-fadnavis-says-allegations-false-2479634?trendingnow',\n",
    "       'https://www.ndtv.com/india-news/covaxin-brazil-deal-brazil-contradicts-bharat-biotech-claim-on-emergency-approval-for-covaxin-2479694?trendingnow',\n",
    "       'https://www.ndtv.com/delhi-news/central-market-rui-mandi-shut-2-more-delhi-markets-shut-for-violation-of-covid-norms-2479438?trendingnow',\n",
    "       'https://www.ndtv.com/world-news/afghanistan-over-1-000-afghan-troops-flee-taliban-into-tajikistan-2479677?trendingnow',\n",
    "       'https://allthatsinteresting.com/jared-vaughn',\n",
    "       'https://allthatsinteresting.com/zodiac-killer-cipher-solved',\n",
    "       'https://allthatsinteresting.com/first-americans',\n",
    "       'https://allthatsinteresting.com/raffaela-weyman',\n",
    "       'https://allthatsinteresting.com/jarvensuo',\n",
    "       'https://www.news.com.au/lifestyle/real-life/true-stories/millions-left-to-charities-after-queenstown-mans-cancer-death/news-story/1f0ae0974cc7c7e8c7e495202d13f1de',\n",
    "       'https://www.news.com.au/lifestyle/real-life/tragic-reason-14yearold-boy-was-in-burning-house-that-killed-him/news-story/feadffabe363a8b4b4bc793e6574ffe7',\n",
    "       'https://www.news.com.au/lifestyle/real-life/true-stories/woman-freaks-out-over-grim-shower-find-in-her-home/news-story/800a1325ffc053876a7451c0d1c9c709',\n",
    "       'https://www.news.com.au/world/coronavirus/global/covid19-uk-strain-more-transmissible-than-delta-hits-uk/news-story/4680c0a91a079cc00143cfdddddb20ba',\n",
    "       'https://www.news.com.au/travel/travel-updates/travel-stories/this-chinese-town-is-a-tourist-hotspot-except-its-all-fake/news-story/45c0f982136cf8482c1c686c761e62d0',\n",
    "       'https://www.news.com.au/world/south-america/high-numbers-of-children-dying-from-covid-in-brazil-as-nations-death-toll-rises/news-story/7e7ff610a566fda2af950d8f3506f789']\n",
    "print(len(true))"
   ]
  },
  {
   "cell_type": "code",
   "execution_count": 36,
   "metadata": {},
   "outputs": [
    {
     "name": "stdout",
     "output_type": "stream",
     "text": [
      "https://www.hindustantimes.com/world-news/explosives-set-off-to-bring-down-rest-of-collapsed-condo-in-florida-101625456836623.html\n",
      "https://www.hindustantimes.com/world-news/blast-at-thai-factory-shakes-bangkok-airport-area-evacuated-101625460300340.html\n",
      "https://www.hindustantimes.com/cities/patna-news/2-more-areas-in-bihar-s-champaran-achieve-100-first-dose-vaccination-101625458808289.html\n",
      "https://www.hindustantimes.com/india-news/govt-presents-draft-bill-to-check-human-trafficking-suggestions-invited-101625458954199.html\n",
      "https://www.hindustantimes.com/india-news/cowin-to-go-global-today-50-countries-show-interest-101625457771714.html\n",
      "https://www.thehindu.com/news/international/scale-details-of-massive-kaseya-ransomware-attack-emerge/article35141077.ece?homepage=true\n",
      "https://www.thehindu.com/news/international/blast-at-thai-factory-shakes-bangkok-airport-area-evacuated/article35141393.ece?homepage=true\n",
      "https://www.thehindu.com/news/international/taliban-captures-several-districts-in-afghanistan/article35134805.ece?homepage=true\n",
      "https://www.ndtv.com/india-news/stan-swamy-84-year-old-tribal-rights-activist-arrested-under-anti-terrorism-law-last-year-dies-after-prolonged-illness-2479602?trendingnow\n",
      "https://www.ndtv.com/india-news/pranab-mukherjees-son-abhijit-mukherjee-to-join-trinamool-congress-today-sources-2479627?trendingnow\n",
      "https://www.ndtv.com/india-news/12-bjp-mlas-in-maharashtra-disqualified-for-abusing-speaker-devendra-fadnavis-says-allegations-false-2479634?trendingnow\n",
      "https://www.ndtv.com/india-news/covaxin-brazil-deal-brazil-contradicts-bharat-biotech-claim-on-emergency-approval-for-covaxin-2479694?trendingnow\n",
      "https://www.ndtv.com/delhi-news/central-market-rui-mandi-shut-2-more-delhi-markets-shut-for-violation-of-covid-norms-2479438?trendingnow\n",
      "https://www.ndtv.com/world-news/afghanistan-over-1-000-afghan-troops-flee-taliban-into-tajikistan-2479677?trendingnow\n",
      "https://allthatsinteresting.com/jared-vaughn\n",
      "https://allthatsinteresting.com/zodiac-killer-cipher-solved\n",
      "https://allthatsinteresting.com/first-americans\n",
      "https://allthatsinteresting.com/raffaela-weyman\n",
      "https://allthatsinteresting.com/jarvensuo\n",
      "https://www.news.com.au/lifestyle/real-life/true-stories/millions-left-to-charities-after-queenstown-mans-cancer-death/news-story/1f0ae0974cc7c7e8c7e495202d13f1de\n",
      "https://www.news.com.au/lifestyle/real-life/tragic-reason-14yearold-boy-was-in-burning-house-that-killed-him/news-story/feadffabe363a8b4b4bc793e6574ffe7\n",
      "https://www.news.com.au/lifestyle/real-life/true-stories/woman-freaks-out-over-grim-shower-find-in-her-home/news-story/800a1325ffc053876a7451c0d1c9c709\n",
      "https://www.news.com.au/world/coronavirus/global/covid19-uk-strain-more-transmissible-than-delta-hits-uk/news-story/4680c0a91a079cc00143cfdddddb20ba\n",
      "https://www.news.com.au/travel/travel-updates/travel-stories/this-chinese-town-is-a-tourist-hotspot-except-its-all-fake/news-story/45c0f982136cf8482c1c686c761e62d0\n",
      "https://www.news.com.au/world/south-america/high-numbers-of-children-dying-from-covid-in-brazil-as-nations-death-toll-rises/news-story/7e7ff610a566fda2af950d8f3506f789\n"
     ]
    }
   ],
   "source": [
    "# fake_results = []\n",
    "real_results = []\n",
    "# fake_articles = []\n",
    "real_articles = []\n",
    "# for url in fake:\n",
    "#     article = newspaper.Article(url = url)\n",
    "#     article.download()\n",
    "#     try:\n",
    "#         article.parse()\n",
    "#     except:\n",
    "#         print('yo')\n",
    "#         pass\n",
    "#     text = article.text\n",
    "#     text = wordopt(text)\n",
    "#     fake_articles.append(text)\n",
    "#     fake_results.append(model.predict([text])[0])\n",
    "    \n",
    "    \n",
    "for url in true:\n",
    "    article = newspaper.Article(url = url)\n",
    "    article.download()\n",
    "# #     print(article.html)\n",
    "    print(url)\n",
    "# #     try:\n",
    "    article.parse()\n",
    "#     except:\n",
    "#         print('yo2')\n",
    "#         pass\n",
    "    text = article.text\n",
    "    text = wordopt(text)\n",
    "    real_articles.append(text)\n",
    "    real_results.append(model2.predict([text])[0])"
   ]
  },
  {
   "cell_type": "code",
   "execution_count": 38,
   "metadata": {},
   "outputs": [
    {
     "name": "stdout",
     "output_type": "stream",
     "text": [
      "[1, 1, 1, 1, 1, 1, 1, 1, 1, 1, 1, 1, 1, 1, 1, 1, 0, 1, 1, 1, 1, 0, 1, 1, 1]\n"
     ]
    }
   ],
   "source": [
    "# print(fake_results)\n",
    "print(real_results)\n",
    "# print(real_articles)"
   ]
  },
  {
   "cell_type": "code",
   "execution_count": 40,
   "metadata": {},
   "outputs": [],
   "source": [
    "import pickle\n",
    "pickle.dump(model, open('finalized_model.sav', 'wb'))"
   ]
  },
  {
   "cell_type": "code",
   "execution_count": null,
   "metadata": {},
   "outputs": [],
   "source": []
  }
 ],
 "metadata": {
  "kernelspec": {
   "display_name": "ProjectEnv",
   "language": "python",
   "name": "projectenv"
  },
  "language_info": {
   "codemirror_mode": {
    "name": "ipython",
    "version": 3
   },
   "file_extension": ".py",
   "mimetype": "text/x-python",
   "name": "python",
   "nbconvert_exporter": "python",
   "pygments_lexer": "ipython3",
   "version": "3.7.4"
  }
 },
 "nbformat": 4,
 "nbformat_minor": 4
}
