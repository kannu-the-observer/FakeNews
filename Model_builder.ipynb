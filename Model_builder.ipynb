{
 "cells": [
  {
   "cell_type": "code",
   "execution_count": 1,
   "metadata": {},
   "outputs": [],
   "source": [
    "import json\n",
    "import pandas as pd\n",
    "import re\n",
    "import string\n",
    "from sklearn.model_selection import train_test_split\n",
    "from sklearn.pipeline import Pipeline\n",
    "from sklearn.feature_extraction.text import CountVectorizer\n",
    "from sklearn.feature_extraction.text import TfidfTransformer\n",
    "from sklearn.metrics import accuracy_score, confusion_matrix,classification_report\n",
    "from sklearn.linear_model import LogisticRegression\n",
    "from sklearn.svm import LinearSVC\n",
    "from sklearn.naive_bayes import MultinomialNB\n",
    "from sklearn.linear_model import SGDClassifier\n",
    "from sklearn.ensemble import RandomForestClassifier"
   ]
  },
  {
   "cell_type": "code",
   "execution_count": 2,
   "metadata": {},
   "outputs": [],
   "source": [
    "def train_model(x_train, x_test, y_train, y_test, model):\n",
    "    pipe1 = Pipeline([('vect', CountVectorizer()), ('tfidf', TfidfTransformer()), ('model', model)])\n",
    "\n",
    "    trained_model = pipe1.fit(x_train, y_train)\n",
    "    prediction = trained_model.predict(x_test)\n",
    "    \n",
    "    accuracy = round(accuracy_score(y_test, prediction)*100, 2)\n",
    "    results[f\"{model.__class__.__name__}-same_set\"].append(trained_model)\n",
    "    results[f\"{model.__class__.__name__}-same_set\"].append(accuracy)\n",
    "    print(f\"Accuracy of {model.__class__.__name__} Classifier: {accuracy}%\")\n",
    "    print(f\"Confusion Matrix of {model.__class__.__name__} Classifier:\")\n",
    "    print(confusion_matrix(y_test, prediction))\n",
    "    print(f\"CLassification Report of {model.__class__.__name__} Classifier:\")\n",
    "    print(classification_report(y_test, prediction))\n",
    "    return trained_model\n",
    "\n",
    "def test_model(article_bodies, article_labels, model, dataset_no, model_name):\n",
    "    prediction = model.predict(article_bodies)\n",
    "    \n",
    "    accuracy = round(accuracy_score(article_labels, prediction)*100, 2)\n",
    "    if f\"{model_name.__class__.__name__}-data_set{dataset_no}\" not in results:\n",
    "        results[f\"{model_name.__class__.__name__}-data_set{dataset_no}\"] = [accuracy]\n",
    "    else:\n",
    "        results[f\"{model_name.__class__.__name__}-data_set{dataset_no}\"].append(accuracy)\n",
    "    print(f\"Accuracy of {model_name.__class__.__name__} Classifier: {accuracy}%\")\n",
    "    print(f\"Confusion Matrix of {model_name.__class__.__name__} Classifier:\")\n",
    "    print(confusion_matrix(article_labels, prediction))\n",
    "    print(f\"CLassification Report of {model_name.__class__.__name__} Classifier:\")\n",
    "    print(classification_report(article_labels, prediction))\n",
    "    \n",
    "def wordopt(text):\n",
    "    text = text.lower()\n",
    "    text = re.sub('\\[.*?\\]', '', text)\n",
    "    text = re.sub(\"\\\\W\",\" \",text) \n",
    "    text = re.sub('https?://\\S+|www\\.\\S+', '', text)\n",
    "    text = re.sub('<.*?>+', '', text)\n",
    "    text = re.sub('[%s]' % re.escape(string.punctuation), '', text)\n",
    "    text = re.sub('\\n', '', text)\n",
    "    text = re.sub('\\w*\\d\\w*', '', text)    \n",
    "    return text"
   ]
  },
  {
   "cell_type": "code",
   "execution_count": 3,
   "metadata": {},
   "outputs": [],
   "source": [
    "models = [LogisticRegression(), LinearSVC(), MultinomialNB(), SGDClassifier(), RandomForestClassifier()]"
   ]
  },
  {
   "cell_type": "code",
   "execution_count": 138,
   "metadata": {},
   "outputs": [],
   "source": [
    "datasets = []\n",
    "for i in range(5):\n",
    "    data = pd.read_csv(f\"dataset{i}.csv\")\n",
    "    datasets.append(data)"
   ]
  },
  {
   "cell_type": "code",
   "execution_count": 142,
   "metadata": {},
   "outputs": [
    {
     "name": "stdout",
     "output_type": "stream",
     "text": [
      "                                                text  label\n",
      "0  so  anyway  what s the deal  is trump just try...      1\n",
      "1  on thursday  the u  s  military published a re...      0\n",
      "2    by bar    tens of thousands have demonstrate...      1\n",
      "3  facebook will stop  fake news  using a similar...      0\n",
      "4  imidacloprid sulfoxaflor aldi has made a name ...      1\n",
      "                                                text  label\n",
      "0   reuters    u s  senate republicans are making...      1\n",
      "1  when the majority of students  regardless of c...      0\n",
      "2  well  that didn t take long  look for the firs...      0\n",
      "3  winston salem  n c   reuters    a state judge ...      1\n",
      "4  over the course of five days  tulsa deputies w...      0\n",
      "                                                text  label\n",
      "0  the empire files  inside palestine s refugee c...      0\n",
      "1  professor shares insights on paranormal  canni...      0\n",
      "2   before it s news  what the video is about  em...      0\n",
      "3  this video is really disturbing     not just t...      0\n",
      "4  mitt romney  the republican party s  president...      1\n",
      "                                                text  label\n",
      "0  home  badge abuse  cop fired after shooting ow...      1\n",
      "1  email   the excitement over the us election is...      0\n",
      "2  email  the politicomorning consult poll finds ...      0\n",
      "3  on tuesday russian admiral kuznetsov aircraftc...      0\n",
      "4  the debate washingtons syria policy  in this e...      1\n",
      "                                                text  label\n",
      "0  text size  a  a   new delhi  virtual hearings ...      1\n",
      "1  morse bluff  ne although neighbors report that...      0\n",
      "2  gardner  ma realizing the movie was probably m...      0\n",
      "3  the all electric i pace is a sign of all thing...      1\n",
      "4  president elect donald trump made a variety of...      0\n"
     ]
    }
   ],
   "source": [
    "for i in range(len(datasets)):\n",
    "    datasets[i] = datasets[i].sample(frac = 1)\n",
    "    datasets[i].reset_index(inplace = True)\n",
    "    datasets[i].drop([\"index\"], axis = 1, inplace = True)\n",
    "    datasets[i][\"text\"] = datasets[i][\"text\"].apply(wordopt)"
   ]
  },
  {
   "cell_type": "code",
   "execution_count": 4,
   "metadata": {},
   "outputs": [
    {
     "name": "stdout",
     "output_type": "stream",
     "text": [
      "{'LogisticRegression-same_set': [], 'LinearSVC-same_set': [], 'MultinomialNB-same_set': [], 'SGDClassifier-same_set': [], 'RandomForestClassifier-same_set': []}\n"
     ]
    }
   ],
   "source": [
    "results = {}\n",
    "for model in models:\n",
    "    results[f\"{model.__class__.__name__}-same_set\"] = []\n",
    "print(results)"
   ]
  },
  {
   "cell_type": "code",
   "execution_count": 1,
   "metadata": {},
   "outputs": [],
   "source": [
    "for i in range(len(datasets)):\n",
    "    x_train, x_test, y_train, y_test = train_test_split(datasets[i].text, datasets[i].label, test_size=0.2, random_state=1)\n",
    "    for model in models:\n",
    "        print(f\"For dataset {i}:\")\n",
    "        trained_model = train_model(x_train, x_test, y_train, y_test, model)\n",
    "        for j in range(len(datasets)):\n",
    "            if i==j:\n",
    "                  continue\n",
    "            print(f\"Testing on dataset {j}:\")\n",
    "            test_model(datasets[j].text, datasets[j].label, trained_model, i, model)"
   ]
  },
  {
   "cell_type": "code",
   "execution_count": 5,
   "metadata": {},
   "outputs": [
    {
     "name": "stdout",
     "output_type": "stream",
     "text": [
      "Accuracy of LogisticRegression Classifier: 96.68%\n",
      "Confusion Matrix of LogisticRegression Classifier:\n",
      "[[251  15]\n",
      " [  2 244]]\n",
      "CLassification Report of LogisticRegression Classifier:\n",
      "              precision    recall  f1-score   support\n",
      "\n",
      "           0       0.99      0.94      0.97       266\n",
      "           1       0.94      0.99      0.97       246\n",
      "\n",
      "    accuracy                           0.97       512\n",
      "   macro avg       0.97      0.97      0.97       512\n",
      "weighted avg       0.97      0.97      0.97       512\n",
      "\n",
      "Accuracy of LinearSVC Classifier: 99.22%\n",
      "Confusion Matrix of LinearSVC Classifier:\n",
      "[[263   3]\n",
      " [  1 245]]\n",
      "CLassification Report of LinearSVC Classifier:\n",
      "              precision    recall  f1-score   support\n",
      "\n",
      "           0       1.00      0.99      0.99       266\n",
      "           1       0.99      1.00      0.99       246\n",
      "\n",
      "    accuracy                           0.99       512\n",
      "   macro avg       0.99      0.99      0.99       512\n",
      "weighted avg       0.99      0.99      0.99       512\n",
      "\n",
      "Accuracy of MultinomialNB Classifier: 93.55%\n",
      "Confusion Matrix of MultinomialNB Classifier:\n",
      "[[234  32]\n",
      " [  1 245]]\n",
      "CLassification Report of MultinomialNB Classifier:\n",
      "              precision    recall  f1-score   support\n",
      "\n",
      "           0       1.00      0.88      0.93       266\n",
      "           1       0.88      1.00      0.94       246\n",
      "\n",
      "    accuracy                           0.94       512\n",
      "   macro avg       0.94      0.94      0.94       512\n",
      "weighted avg       0.94      0.94      0.94       512\n",
      "\n",
      "Accuracy of SGDClassifier Classifier: 99.22%\n",
      "Confusion Matrix of SGDClassifier Classifier:\n",
      "[[263   3]\n",
      " [  1 245]]\n",
      "CLassification Report of SGDClassifier Classifier:\n",
      "              precision    recall  f1-score   support\n",
      "\n",
      "           0       1.00      0.99      0.99       266\n",
      "           1       0.99      1.00      0.99       246\n",
      "\n",
      "    accuracy                           0.99       512\n",
      "   macro avg       0.99      0.99      0.99       512\n",
      "weighted avg       0.99      0.99      0.99       512\n",
      "\n",
      "Accuracy of RandomForestClassifier Classifier: 97.85%\n",
      "Confusion Matrix of RandomForestClassifier Classifier:\n",
      "[[259   7]\n",
      " [  4 242]]\n",
      "CLassification Report of RandomForestClassifier Classifier:\n",
      "              precision    recall  f1-score   support\n",
      "\n",
      "           0       0.98      0.97      0.98       266\n",
      "           1       0.97      0.98      0.98       246\n",
      "\n",
      "    accuracy                           0.98       512\n",
      "   macro avg       0.98      0.98      0.98       512\n",
      "weighted avg       0.98      0.98      0.98       512\n",
      "\n"
     ]
    }
   ],
   "source": [
    "dataset = pd.read_csv(\"dataset4.csv\")\n",
    "x_train, x_test, y_train, y_test = train_test_split(dataset.text, dataset.label, test_size=0.2, random_state=1)\n",
    "for model in models:\n",
    "    trained_model = train_model(x_train, x_test, y_train, y_test, model)"
   ]
  },
  {
   "cell_type": "code",
   "execution_count": 6,
   "metadata": {},
   "outputs": [],
   "source": [
    "model = results['LinearSVC-same_set'][0]"
   ]
  },
  {
   "cell_type": "code",
   "execution_count": 7,
   "metadata": {},
   "outputs": [],
   "source": [
    "import newspaper\n",
    "fake = ['https://www.theonion.com/wealthy-teen-nearly-experiences-consequence-1819570166',\n",
    "       'https://www.theonion.com/why-cant-i-sell-any-of-these-fucking-bibles-1819583497',\n",
    "       'https://www.theonion.com/bush-our-long-national-nightmare-of-peace-and-prosperi-1819565882',\n",
    "       'https://www.theonion.com/fuck-everything-were-doing-five-blades-1819584036',\n",
    "       'https://www.theonion.com/evangelical-scientists-refute-gravity-with-new-intellig-1819567984',\n",
    "       'https://www.theonion.com/black-guy-asks-nation-for-change-1819569703',\n",
    "       'https://www.theonion.com/hijackers-surprised-to-find-selves-in-hell-1819566162',\n",
    "       'https://www.theonion.com/pope-francis-worried-about-job-security-after-butting-h-1819578788',\n",
    "       'https://www.theonion.com/fun-toy-banned-because-of-three-stupid-dead-kids-1819565691',\n",
    "       'https://www.theonion.com/area-man-passionate-defender-of-what-he-imagines-consti-1819571149']"
   ]
  },
  {
   "cell_type": "code",
   "execution_count": 38,
   "metadata": {},
   "outputs": [
    {
     "name": "stdout",
     "output_type": "stream",
     "text": [
      "25\n"
     ]
    }
   ],
   "source": [
    "true = ['https://www.hindustantimes.com/world-news/explosives-set-off-to-bring-down-rest-of-collapsed-condo-in-florida-101625456836623.html',\n",
    "       'https://www.hindustantimes.com/world-news/blast-at-thai-factory-shakes-bangkok-airport-area-evacuated-101625460300340.html',\n",
    "       'https://www.hindustantimes.com/cities/patna-news/2-more-areas-in-bihar-s-champaran-achieve-100-first-dose-vaccination-101625458808289.html',\n",
    "       'https://www.hindustantimes.com/india-news/govt-presents-draft-bill-to-check-human-trafficking-suggestions-invited-101625458954199.html',\n",
    "       'https://www.hindustantimes.com/india-news/cowin-to-go-global-today-50-countries-show-interest-101625457771714.html',\n",
    "       'https://www.thehindu.com/news/international/scale-details-of-massive-kaseya-ransomware-attack-emerge/article35141077.ece?homepage=true',\n",
    "       'https://www.thehindu.com/news/international/blast-at-thai-factory-shakes-bangkok-airport-area-evacuated/article35141393.ece?homepage=true',\n",
    "       'https://www.thehindu.com/news/international/taliban-captures-several-districts-in-afghanistan/article35134805.ece?homepage=true',\n",
    "       'https://www.ndtv.com/india-news/stan-swamy-84-year-old-tribal-rights-activist-arrested-under-anti-terrorism-law-last-year-dies-after-prolonged-illness-2479602?trendingnow',\n",
    "       'https://www.ndtv.com/india-news/pranab-mukherjees-son-abhijit-mukherjee-to-join-trinamool-congress-today-sources-2479627?trendingnow',\n",
    "       'https://www.ndtv.com/india-news/12-bjp-mlas-in-maharashtra-disqualified-for-abusing-speaker-devendra-fadnavis-says-allegations-false-2479634?trendingnow',\n",
    "       'https://www.ndtv.com/india-news/covaxin-brazil-deal-brazil-contradicts-bharat-biotech-claim-on-emergency-approval-for-covaxin-2479694?trendingnow',\n",
    "       'https://www.ndtv.com/delhi-news/central-market-rui-mandi-shut-2-more-delhi-markets-shut-for-violation-of-covid-norms-2479438?trendingnow',\n",
    "       'https://www.ndtv.com/world-news/afghanistan-over-1-000-afghan-troops-flee-taliban-into-tajikistan-2479677?trendingnow',\n",
    "       'https://allthatsinteresting.com/jared-vaughn',\n",
    "       'https://allthatsinteresting.com/zodiac-killer-cipher-solved',\n",
    "       'https://allthatsinteresting.com/first-americans',\n",
    "       'https://allthatsinteresting.com/raffaela-weyman',\n",
    "       'https://allthatsinteresting.com/jarvensuo',\n",
    "       'https://www.news.com.au/lifestyle/real-life/true-stories/millions-left-to-charities-after-queenstown-mans-cancer-death/news-story/1f0ae0974cc7c7e8c7e495202d13f1de',\n",
    "       'https://www.news.com.au/lifestyle/real-life/tragic-reason-14yearold-boy-was-in-burning-house-that-killed-him/news-story/feadffabe363a8b4b4bc793e6574ffe7',\n",
    "       'https://www.news.com.au/lifestyle/real-life/true-stories/woman-freaks-out-over-grim-shower-find-in-her-home/news-story/800a1325ffc053876a7451c0d1c9c709',\n",
    "       'https://www.news.com.au/world/coronavirus/global/covid19-uk-strain-more-transmissible-than-delta-hits-uk/news-story/4680c0a91a079cc00143cfdddddb20ba',\n",
    "       'https://www.news.com.au/travel/travel-updates/travel-stories/this-chinese-town-is-a-tourist-hotspot-except-its-all-fake/news-story/45c0f982136cf8482c1c686c761e62d0',\n",
    "       'https://www.news.com.au/world/south-america/high-numbers-of-children-dying-from-covid-in-brazil-as-nations-death-toll-rises/news-story/7e7ff610a566fda2af950d8f3506f789']\n",
    "print(len(true))"
   ]
  },
  {
   "cell_type": "code",
   "execution_count": 49,
   "metadata": {},
   "outputs": [
    {
     "name": "stdout",
     "output_type": "stream",
     "text": [
      "\n"
     ]
    },
    {
     "ename": "ArticleException",
     "evalue": "Article `download()` failed with HTTPSConnectionPool(host='www.hindustantimes.com', port=443): Read timed out. on URL https://www.hindustantimes.com/world-news/explosives-set-off-to-bring-down-rest-of-collapsed-condo-in-florida-101625456836623.html",
     "output_type": "error",
     "traceback": [
      "\u001b[1;31m---------------------------------------------------------------------------\u001b[0m",
      "\u001b[1;31mArticleException\u001b[0m                          Traceback (most recent call last)",
      "\u001b[1;32m<ipython-input-49-823bdede8130>\u001b[0m in \u001b[0;36m<module>\u001b[1;34m\u001b[0m\n\u001b[0;32m     22\u001b[0m     \u001b[0mprint\u001b[0m\u001b[1;33m(\u001b[0m\u001b[0marticle\u001b[0m\u001b[1;33m.\u001b[0m\u001b[0mhtml\u001b[0m\u001b[1;33m)\u001b[0m\u001b[1;33m\u001b[0m\u001b[1;33m\u001b[0m\u001b[0m\n\u001b[0;32m     23\u001b[0m \u001b[1;31m#     try:\u001b[0m\u001b[1;33m\u001b[0m\u001b[1;33m\u001b[0m\u001b[1;33m\u001b[0m\u001b[0m\n\u001b[1;32m---> 24\u001b[1;33m     \u001b[0marticle\u001b[0m\u001b[1;33m.\u001b[0m\u001b[0mparse\u001b[0m\u001b[1;33m(\u001b[0m\u001b[1;33m)\u001b[0m\u001b[1;33m\u001b[0m\u001b[1;33m\u001b[0m\u001b[0m\n\u001b[0m\u001b[0;32m     25\u001b[0m \u001b[1;31m#     except:\u001b[0m\u001b[1;33m\u001b[0m\u001b[1;33m\u001b[0m\u001b[1;33m\u001b[0m\u001b[0m\n\u001b[0;32m     26\u001b[0m \u001b[1;31m#         print('yo2')\u001b[0m\u001b[1;33m\u001b[0m\u001b[1;33m\u001b[0m\u001b[1;33m\u001b[0m\u001b[0m\n",
      "\u001b[1;32m~\\Desktop\\Sem 7\\Project\\FakeNewsDetection\\FakeNews\\ProjectEnv\\lib\\site-packages\\newspaper\\article.py\u001b[0m in \u001b[0;36mparse\u001b[1;34m(self)\u001b[0m\n\u001b[0;32m    189\u001b[0m \u001b[1;33m\u001b[0m\u001b[0m\n\u001b[0;32m    190\u001b[0m     \u001b[1;32mdef\u001b[0m \u001b[0mparse\u001b[0m\u001b[1;33m(\u001b[0m\u001b[0mself\u001b[0m\u001b[1;33m)\u001b[0m\u001b[1;33m:\u001b[0m\u001b[1;33m\u001b[0m\u001b[1;33m\u001b[0m\u001b[0m\n\u001b[1;32m--> 191\u001b[1;33m         \u001b[0mself\u001b[0m\u001b[1;33m.\u001b[0m\u001b[0mthrow_if_not_downloaded_verbose\u001b[0m\u001b[1;33m(\u001b[0m\u001b[1;33m)\u001b[0m\u001b[1;33m\u001b[0m\u001b[1;33m\u001b[0m\u001b[0m\n\u001b[0m\u001b[0;32m    192\u001b[0m \u001b[1;33m\u001b[0m\u001b[0m\n\u001b[0;32m    193\u001b[0m         \u001b[0mself\u001b[0m\u001b[1;33m.\u001b[0m\u001b[0mdoc\u001b[0m \u001b[1;33m=\u001b[0m \u001b[0mself\u001b[0m\u001b[1;33m.\u001b[0m\u001b[0mconfig\u001b[0m\u001b[1;33m.\u001b[0m\u001b[0mget_parser\u001b[0m\u001b[1;33m(\u001b[0m\u001b[1;33m)\u001b[0m\u001b[1;33m.\u001b[0m\u001b[0mfromstring\u001b[0m\u001b[1;33m(\u001b[0m\u001b[0mself\u001b[0m\u001b[1;33m.\u001b[0m\u001b[0mhtml\u001b[0m\u001b[1;33m)\u001b[0m\u001b[1;33m\u001b[0m\u001b[1;33m\u001b[0m\u001b[0m\n",
      "\u001b[1;32m~\\Desktop\\Sem 7\\Project\\FakeNewsDetection\\FakeNews\\ProjectEnv\\lib\\site-packages\\newspaper\\article.py\u001b[0m in \u001b[0;36mthrow_if_not_downloaded_verbose\u001b[1;34m(self)\u001b[0m\n\u001b[0;32m    530\u001b[0m         \u001b[1;32melif\u001b[0m \u001b[0mself\u001b[0m\u001b[1;33m.\u001b[0m\u001b[0mdownload_state\u001b[0m \u001b[1;33m==\u001b[0m \u001b[0mArticleDownloadState\u001b[0m\u001b[1;33m.\u001b[0m\u001b[0mFAILED_RESPONSE\u001b[0m\u001b[1;33m:\u001b[0m\u001b[1;33m\u001b[0m\u001b[1;33m\u001b[0m\u001b[0m\n\u001b[0;32m    531\u001b[0m             raise ArticleException('Article `download()` failed with %s on URL %s' %\n\u001b[1;32m--> 532\u001b[1;33m                   (self.download_exception_msg, self.url))\n\u001b[0m\u001b[0;32m    533\u001b[0m \u001b[1;33m\u001b[0m\u001b[0m\n\u001b[0;32m    534\u001b[0m     \u001b[1;32mdef\u001b[0m \u001b[0mthrow_if_not_parsed_verbose\u001b[0m\u001b[1;33m(\u001b[0m\u001b[0mself\u001b[0m\u001b[1;33m)\u001b[0m\u001b[1;33m:\u001b[0m\u001b[1;33m\u001b[0m\u001b[1;33m\u001b[0m\u001b[0m\n",
      "\u001b[1;31mArticleException\u001b[0m: Article `download()` failed with HTTPSConnectionPool(host='www.hindustantimes.com', port=443): Read timed out. on URL https://www.hindustantimes.com/world-news/explosives-set-off-to-bring-down-rest-of-collapsed-condo-in-florida-101625456836623.html"
     ]
    }
   ],
   "source": [
    "# fake_results = []\n",
    "real_results = []\n",
    "# fake_articles = []\n",
    "real_articles = []\n",
    "# for url in fake:\n",
    "#     article = newspaper.Article(url = url)\n",
    "#     article.download()\n",
    "#     try:\n",
    "#         article.parse()\n",
    "#     except:\n",
    "#         print('yo')\n",
    "#         pass\n",
    "#     text = article.text\n",
    "#     text = wordopt(text)\n",
    "#     fake_articles.append(text)\n",
    "#     fake_results.append(model.predict([text])[0])\n",
    "    \n",
    "    \n",
    "for url in true:\n",
    "    article = newspaper.Article(url = url)\n",
    "    article.download()\n",
    "    print(article.html)\n",
    "#     try:\n",
    "    article.parse()\n",
    "#     except:\n",
    "#         print('yo2')\n",
    "#         pass\n",
    "    text = article.text\n",
    "    text = wordopt(text)\n",
    "    real_articles.append(text)\n",
    "    real_results.append(model.predict([text])[0])"
   ]
  },
  {
   "cell_type": "code",
   "execution_count": 44,
   "metadata": {},
   "outputs": [
    {
     "name": "stdout",
     "output_type": "stream",
     "text": [
      "[0, 0, 0, 0, 0, 0, 0, 0, 0, 0]\n",
      "[1, 1, 1, 1, 1, 1, 1, 1, 1, 1, 1, 1, 1, 1, 1, 1, 0, 1, 1, 1, 1, 0, 1, 1, 1]\n"
     ]
    }
   ],
   "source": [
    "print(fake_results)\n",
    "print(real_results)\n",
    "# print(real_articles)"
   ]
  },
  {
   "cell_type": "code",
   "execution_count": 20,
   "metadata": {},
   "outputs": [
    {
     "name": "stdout",
     "output_type": "stream",
     "text": [
      "[1]\n"
     ]
    }
   ],
   "source": [
    "test_true_news = \"Demolition crews set off explosives late Sunday to bring down the damaged remaining portion of a collapsed South Florida condo building, a key step to resuming the search for victims as rescuers possibly gain access to new areas of the rubble. A number of explosions could be heard and then the building started to fall, sending up massive plumes of dust into the air in the surrounding neighborhoods. Crews were to begin clearing some of the new debris so rescuers could start making their way into parts of the underground garage that is of particular interest. Once there, they were hoping to get a clearer picture of voids that may exist in the rubble and could possibly harbor survivors. The precarious, still-standing portion of a collapsed structure was rigged with explosive charges and set for demolition, after suspending the search-and-rescue mission. Through the night, rescuers were awaiting the 'all-clear' after the demolition so they could dive back into the task of trying to locate any survivors buried under the rubble. Officials had previously said that the search could resume from 15 minutes to an hour after the detonation. 'We are standing by. We are ready to go in, no matter the time of night,' Levine Cava told a news conference earlier Sunday night. No one has been rescued alive since the first hours after the June 24 collapse. Rescuers are hoping the demolition will give them access for the first time to parts of the garage area that are a focus of interest. Once a new pathway into the initial rubble is secure, “we will go back to the debris pile, and we’ll begin our search and rescue efforts,” Miami-Dade Fire Chief Albert Cominsky said. The decision to demolish the Surfside building came after concerns mounted that the damaged structure was at risk of falling, endangering the crews below and preventing them from operating in some areas. Parts of the remaining building shifted on Thursday, prompting a 15-hour suspension in the work. An approaching storm added urgency to the concerns.\"\n",
    "test_true_news = wordopt(test_true_news)\n",
    "print(model.predict([test_true_news]))"
   ]
  },
  {
   "cell_type": "code",
   "execution_count": 18,
   "metadata": {},
   "outputs": [
    {
     "name": "stdout",
     "output_type": "stream",
     "text": [
      "['https://www.hindustantimes.com/world-news/explosives-set-off-to-bring-down-rest-of-collapsed-condo-in-florida-101625456836623.html', 'https://www.hindustantimes.com/world-news/blast-at-thai-factory-shakes-bangkok-airport-area-evacuated-101625460300340.html', 'https://www.hindustantimes.com/cities/patna-news/2-more-areas-in-bihar-s-champaran-achieve-100-first-dose-vaccination-101625458808289.html', 'https://www.hindustantimes.com/india-news/govt-presents-draft-bill-to-check-human-trafficking-suggestions-invited-101625458954199.html', 'https://www.hindustantimes.com/india-news/cowin-to-go-global-today-50-countries-show-interest-101625457771714.html', 'https://www.thehindu.com/news/international/scale-details-of-massive-kaseya-ransomware-attack-emerge/article35141077.ece?homepage=true', 'https://www.thehindu.com/news/international/blast-at-thai-factory-shakes-bangkok-airport-area-evacuated/article35141393.ece?homepage=true', 'https://www.thehindu.com/news/international/taliban-captures-several-districts-in-afghanistan/article35134805.ece?homepage=true']\n"
     ]
    }
   ],
   "source": [
    "print(true)"
   ]
  },
  {
   "cell_type": "code",
   "execution_count": null,
   "metadata": {},
   "outputs": [],
   "source": []
  }
 ],
 "metadata": {
  "kernelspec": {
   "display_name": "ProjectEnv",
   "language": "python",
   "name": "projectenv"
  },
  "language_info": {
   "codemirror_mode": {
    "name": "ipython",
    "version": 3
   },
   "file_extension": ".py",
   "mimetype": "text/x-python",
   "name": "python",
   "nbconvert_exporter": "python",
   "pygments_lexer": "ipython3",
   "version": "3.7.4"
  }
 },
 "nbformat": 4,
 "nbformat_minor": 4
}
